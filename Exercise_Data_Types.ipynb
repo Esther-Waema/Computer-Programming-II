{
  "metadata": {
    "kernelspec": {
      "display_name": "Python 3",
      "language": "python",
      "name": "python3"
    },
    "language_info": {
      "name": "python",
      "version": "3.10.12",
      "mimetype": "text/x-python",
      "codemirror_mode": {
        "name": "ipython",
        "version": 3
      },
      "pygments_lexer": "ipython3",
      "nbconvert_exporter": "python",
      "file_extension": ".py"
    },
    "papermill": {
      "default_parameters": {},
      "duration": 15.996115,
      "end_time": "2022-02-15T23:56:55.998786",
      "environment_variables": {},
      "exception": null,
      "input_path": "__notebook__.ipynb",
      "output_path": "__notebook__.ipynb",
      "parameters": {},
      "start_time": "2022-02-15T23:56:40.002671",
      "version": "2.3.3"
    },
    "kaggle": {
      "accelerator": "none",
      "dataSources": [],
      "isInternetEnabled": false,
      "language": "python",
      "sourceType": "notebook",
      "isGpuEnabled": false
    },
    "colab": {
      "name": "Exercise: Data Types",
      "provenance": []
    }
  },
  "nbformat_minor": 5,
  "nbformat": 4,
  "cells": [
    {
      "id": "df5dc007",
      "cell_type": "markdown",
      "source": [
        "**This notebook is an exercise in the [Intro to Programming](https://www.kaggle.com/learn/intro-to-programming) course.  You can reference the tutorial at [this link](https://www.kaggle.com/alexisbcook/data-types).**\n",
        "\n",
        "---\n"
      ],
      "metadata": {
        "id": "df5dc007"
      }
    },
    {
      "id": "2ef553cf",
      "cell_type": "markdown",
      "source": [
        "In the tutorial, you learned about four different data types: floats, integers, strings, and booleans.  In this exercise, you'll experiment with them.\n",
        "\n",
        "# Set up the notebook\n",
        "\n",
        "Run the next code cell without changes to set up the notebook."
      ],
      "metadata": {
        "papermill": {
          "duration": 0.024307,
          "end_time": "2022-02-15T23:56:51.875254",
          "exception": false,
          "start_time": "2022-02-15T23:56:51.850947",
          "status": "completed"
        },
        "tags": [],
        "id": "2ef553cf"
      }
    },
    {
      "id": "943eb6a1",
      "cell_type": "code",
      "source": [
        "# Set up the exercise\n",
        "from learntools.core import binder\n",
        "binder.bind(globals())\n",
        "from learntools.intro_to_programming.ex3 import *\n",
        "print('Setup complete.')"
      ],
      "metadata": {
        "execution": {
          "iopub.status.busy": "2025-02-18T22:58:29.398296Z",
          "iopub.execute_input": "2025-02-18T22:58:29.398627Z",
          "iopub.status.idle": "2025-02-18T22:58:30.363961Z",
          "shell.execute_reply.started": "2025-02-18T22:58:29.398599Z",
          "shell.execute_reply": "2025-02-18T22:58:30.362216Z"
        },
        "papermill": {
          "duration": 0.041266,
          "end_time": "2022-02-15T23:56:51.940173",
          "exception": false,
          "start_time": "2022-02-15T23:56:51.898907",
          "status": "completed"
        },
        "tags": [],
        "trusted": true,
        "id": "943eb6a1",
        "outputId": "c8cdcde6-99e7-4cef-b8ea-13655d59161c"
      },
      "outputs": [
        {
          "name": "stdout",
          "text": "Setup complete.\n",
          "output_type": "stream"
        }
      ],
      "execution_count": null
    },
    {
      "id": "b5cc6e87",
      "cell_type": "markdown",
      "source": [
        "# Question 1\n",
        "\n",
        "You have seen how to convert a float to an integer with the `int` function.  Try this out yourself by running the code cell below."
      ],
      "metadata": {
        "papermill": {
          "duration": 0.024941,
          "end_time": "2022-02-15T23:56:51.990804",
          "exception": false,
          "start_time": "2022-02-15T23:56:51.965863",
          "status": "completed"
        },
        "tags": [],
        "id": "b5cc6e87"
      }
    },
    {
      "id": "1af73a8c",
      "cell_type": "code",
      "source": [
        "# Define a float\n",
        "y = 1.\n",
        "print(y)\n",
        "print(type(y))\n",
        "\n",
        "# Convert float to integer with the int function\n",
        "z = int(y)\n",
        "print(z)\n",
        "print(type(z))"
      ],
      "metadata": {
        "execution": {
          "iopub.execute_input": "2022-02-15T23:56:52.042953Z",
          "iopub.status.busy": "2022-02-15T23:56:52.041922Z",
          "iopub.status.idle": "2022-02-15T23:56:52.050442Z",
          "shell.execute_reply": "2022-02-15T23:56:52.049852Z",
          "shell.execute_reply.started": "2022-02-03T22:16:24.931367Z"
        },
        "papermill": {
          "duration": 0.036351,
          "end_time": "2022-02-15T23:56:52.050571",
          "exception": false,
          "start_time": "2022-02-15T23:56:52.01422",
          "status": "completed"
        },
        "tags": [],
        "id": "1af73a8c"
      },
      "outputs": [],
      "execution_count": null
    },
    {
      "id": "0a5b658a",
      "cell_type": "markdown",
      "source": [
        "In this case, the float you are using has no numbers after the decimal.  \n",
        "- But what happens when you try to convert a float with a fractional part to an integer?  \n",
        "- How does the outcome of the `int` function change for positive and negative numbers?\n",
        "\n",
        "Use the next code cell to investigate and answer these questions.  Feel free to add or remove any lines of code -- it is your workspace!"
      ],
      "metadata": {
        "papermill": {
          "duration": 0.015746,
          "end_time": "2022-02-15T23:56:52.082635",
          "exception": false,
          "start_time": "2022-02-15T23:56:52.066889",
          "status": "completed"
        },
        "tags": [],
        "id": "0a5b658a"
      }
    },
    {
      "id": "b2a37796",
      "cell_type": "code",
      "source": [
        "# Uncomment and run this code to get started!\n",
        "print(int(1.2321))\n",
        "print(int(1.747))\n",
        "print(int(-3.94535))\n",
        "print(int(-2.19774))"
      ],
      "metadata": {
        "execution": {
          "iopub.status.busy": "2025-02-18T22:59:03.047258Z",
          "iopub.execute_input": "2025-02-18T22:59:03.047645Z",
          "iopub.status.idle": "2025-02-18T22:59:03.055219Z",
          "shell.execute_reply.started": "2025-02-18T22:59:03.047617Z",
          "shell.execute_reply": "2025-02-18T22:59:03.053892Z"
        },
        "papermill": {
          "duration": 0.023189,
          "end_time": "2022-02-15T23:56:52.121169",
          "exception": false,
          "start_time": "2022-02-15T23:56:52.09798",
          "status": "completed"
        },
        "tags": [],
        "trusted": true,
        "id": "b2a37796",
        "outputId": "67de9f32-f8cc-49d7-b41e-a7eba1cf88a7"
      },
      "outputs": [
        {
          "name": "stdout",
          "text": "1\n1\n-3\n-2\n",
          "output_type": "stream"
        }
      ],
      "execution_count": null
    },
    {
      "id": "f666b450",
      "cell_type": "markdown",
      "source": [
        "Once you have an answer, run the code cell below to see the solution.  Viewing the solution will give you credit for answering the problem."
      ],
      "metadata": {
        "papermill": {
          "duration": 0.015044,
          "end_time": "2022-02-15T23:56:52.153268",
          "exception": false,
          "start_time": "2022-02-15T23:56:52.138224",
          "status": "completed"
        },
        "tags": [],
        "id": "f666b450"
      }
    },
    {
      "id": "265d8202",
      "cell_type": "code",
      "source": [
        "# Check your answer (Run this code cell to receive credit!)\n",
        "q1.check()"
      ],
      "metadata": {
        "execution": {
          "iopub.status.busy": "2025-02-18T22:59:32.145296Z",
          "iopub.execute_input": "2025-02-18T22:59:32.145699Z",
          "iopub.status.idle": "2025-02-18T22:59:32.156772Z",
          "shell.execute_reply.started": "2025-02-18T22:59:32.145671Z",
          "shell.execute_reply": "2025-02-18T22:59:32.155186Z"
        },
        "papermill": {
          "duration": 0.022309,
          "end_time": "2022-02-15T23:56:52.19068",
          "exception": false,
          "start_time": "2022-02-15T23:56:52.168371",
          "status": "completed"
        },
        "tags": [],
        "trusted": true,
        "id": "265d8202",
        "outputId": "b0e23a53-0e7c-4b64-9e3b-b8658811d050"
      },
      "outputs": [
        {
          "output_type": "display_data",
          "data": {
            "text/plain": "<IPython.core.display.Javascript object>",
            "application/javascript": "parent.postMessage({\"jupyterEvent\": \"custom.exercise_interaction\", \"data\": {\"outcomeType\": 1, \"valueTowardsCompletion\": 0.2, \"interactionType\": 1, \"questionType\": 4, \"questionId\": \"1_FloatToInt\", \"learnToolsVersion\": \"0.3.4\", \"failureMessage\": \"\", \"exceptionClass\": \"\", \"trace\": \"\"}}, \"*\")"
          },
          "metadata": {}
        },
        {
          "output_type": "display_data",
          "data": {
            "text/plain": "Correct: \n\nNegative floats are always rounded UP to the closest integer (for instance, both -1.1 and -1.9 are rounded up to -1). Positive floats are always rounded DOWN to the closest integer (for instance, 2.1 and 2.9 are rounded down to 2).",
            "text/markdown": "<span style=\"color:#33cc33\">Correct:</span> \n\nNegative floats are always rounded UP to the closest integer (for instance, both -1.1 and -1.9 are rounded up to -1). Positive floats are always rounded DOWN to the closest integer (for instance, 2.1 and 2.9 are rounded down to 2)."
          },
          "metadata": {}
        }
      ],
      "execution_count": null
    },
    {
      "id": "91082e7e",
      "cell_type": "markdown",
      "source": [
        "# Question 2\n",
        "\n",
        "In the tutorial, you learned about booleans (which can take a value of `True` or `False`), in addition to integers, floats, and strings.  For this question, your goal is to determine what happens when you multiply a boolean by any of these data types.  Specifically,\n",
        "- What happens when you multiply an integer or float by `True`?  What happens when you multiply them by `False`?  How does the answer change if the numbers are positive or negative?\n",
        "- What happens when you multiply a string by `True`?  By `False`?\n",
        "\n",
        "Use the next code cell for your investigation."
      ],
      "metadata": {
        "papermill": {
          "duration": 0.015624,
          "end_time": "2022-02-15T23:56:52.222102",
          "exception": false,
          "start_time": "2022-02-15T23:56:52.206478",
          "status": "completed"
        },
        "tags": [],
        "id": "91082e7e"
      }
    },
    {
      "id": "5fe84659",
      "cell_type": "code",
      "source": [
        "# Uncomment and run this code to get started!\n",
        "print(3 * True)\n",
        "print(-3.1 * True)\n",
        "print(type(\"abc\" * False))\n",
        "print(len(\"abc\" * False))"
      ],
      "metadata": {
        "execution": {
          "iopub.status.busy": "2025-02-18T23:00:18.988919Z",
          "iopub.execute_input": "2025-02-18T23:00:18.989353Z",
          "iopub.status.idle": "2025-02-18T23:00:18.996566Z",
          "shell.execute_reply.started": "2025-02-18T23:00:18.989322Z",
          "shell.execute_reply": "2025-02-18T23:00:18.994904Z"
        },
        "papermill": {
          "duration": 0.026529,
          "end_time": "2022-02-15T23:56:52.26436",
          "exception": false,
          "start_time": "2022-02-15T23:56:52.237831",
          "status": "completed"
        },
        "tags": [],
        "trusted": true,
        "id": "5fe84659",
        "outputId": "e6348e84-56cf-4edb-dd46-e581e3f4f993"
      },
      "outputs": [
        {
          "name": "stdout",
          "text": "3\n-3.1\n<class 'str'>\n0\n",
          "output_type": "stream"
        }
      ],
      "execution_count": null
    },
    {
      "id": "09cae65a",
      "cell_type": "markdown",
      "source": [
        "Once you have an answer, run the code cell below to see the solution.  Viewing the solution will give you credit for answering the problem."
      ],
      "metadata": {
        "papermill": {
          "duration": 0.024547,
          "end_time": "2022-02-15T23:56:52.314813",
          "exception": false,
          "start_time": "2022-02-15T23:56:52.290266",
          "status": "completed"
        },
        "tags": [],
        "id": "09cae65a"
      }
    },
    {
      "id": "3988194a",
      "cell_type": "code",
      "source": [
        "# Check your answer (Run this code cell to receive credit!)\n",
        "q2.check()"
      ],
      "metadata": {
        "execution": {
          "iopub.status.busy": "2025-02-18T23:00:30.339753Z",
          "iopub.execute_input": "2025-02-18T23:00:30.340167Z",
          "iopub.status.idle": "2025-02-18T23:00:30.350414Z",
          "shell.execute_reply.started": "2025-02-18T23:00:30.340135Z",
          "shell.execute_reply": "2025-02-18T23:00:30.349196Z"
        },
        "papermill": {
          "duration": 0.033338,
          "end_time": "2022-02-15T23:56:52.372842",
          "exception": false,
          "start_time": "2022-02-15T23:56:52.339504",
          "status": "completed"
        },
        "tags": [],
        "trusted": true,
        "id": "3988194a",
        "outputId": "596bd8a0-7aa4-45c1-cc84-60c87003ae48"
      },
      "outputs": [
        {
          "output_type": "display_data",
          "data": {
            "text/plain": "<IPython.core.display.Javascript object>",
            "application/javascript": "parent.postMessage({\"jupyterEvent\": \"custom.exercise_interaction\", \"data\": {\"outcomeType\": 1, \"valueTowardsCompletion\": 0.2, \"interactionType\": 1, \"questionType\": 4, \"questionId\": \"2_MultiplyBooleans\", \"learnToolsVersion\": \"0.3.4\", \"failureMessage\": \"\", \"exceptionClass\": \"\", \"trace\": \"\"}}, \"*\")"
          },
          "metadata": {}
        },
        {
          "output_type": "display_data",
          "data": {
            "text/plain": "Correct: \n\nWhen you multiple an integer or float by a boolean with value `True`, it just returns that same integer or float (and is equivalent to multiplying by 1).  If you multiply an integer or float by a boolean with value `False`, it always returns 0.  This is true for both positive and negative numbers.  If you multiply a string by a boolean with value `True`, it just returns that same string.  And if you multiply a string by a boolean with value `False`, it returns an empty string (or a string with length zero).",
            "text/markdown": "<span style=\"color:#33cc33\">Correct:</span> \n\nWhen you multiple an integer or float by a boolean with value `True`, it just returns that same integer or float (and is equivalent to multiplying by 1).  If you multiply an integer or float by a boolean with value `False`, it always returns 0.  This is true for both positive and negative numbers.  If you multiply a string by a boolean with value `True`, it just returns that same string.  And if you multiply a string by a boolean with value `False`, it returns an empty string (or a string with length zero)."
          },
          "metadata": {}
        }
      ],
      "execution_count": null
    },
    {
      "id": "c4308284",
      "cell_type": "markdown",
      "source": [
        "# Question 3\n",
        "\n",
        "In this question, you will build off your work from the previous exercise to write a function that estimates the value of a house.\n",
        "\n",
        "Use the next code cell to create a function `get_expected_cost` that takes as input three variables:\n",
        "- `beds` - number of bedrooms (data type float)\n",
        "- `baths` - number of bathrooms (data type float)\n",
        "- `has_basement` - whether or not the house has a basement (data type boolean)\n",
        "\n",
        "It should return the expected cost of a house with those characteristics. Assume that:\n",
        "- the expected cost for a house with 0 bedrooms and 0 bathrooms, and no basement is 80000,\n",
        "- each bedroom adds 30000 to the expected cost,\n",
        "- each bathroom adds 10000 to the expected cost, and\n",
        "- a basement adds 40000 to the expected cost.\n",
        "\n",
        "For instance,\n",
        "- a house with 1 bedroom, 1 bathroom, and no basement has an expected cost of 80000 + 30000 + 10000 = 120000.  This value will be calculated with `get_expected_cost(1, 1, False)`.\n",
        "- a house with 2 bedrooms, 1 bathroom, and a basement has an expected cost of 80000 + 2*30000 + 10000 + 40000 = 190000.  This value will be calculated with `get_expected_cost(2, 1, True)`.\n",
        "\n",
        "Remember you can always get a hint by uncommenting `q3.hint()` in the code cell following the next!"
      ],
      "metadata": {
        "papermill": {
          "duration": 0.024657,
          "end_time": "2022-02-15T23:56:52.423541",
          "exception": false,
          "start_time": "2022-02-15T23:56:52.398884",
          "status": "completed"
        },
        "tags": [],
        "id": "c4308284"
      }
    },
    {
      "id": "abab04ce",
      "cell_type": "code",
      "source": [
        "# TODO: Complete the function\n",
        "def get_expected_cost(beds, baths, has_basement):\n",
        "    value = 80000 + 30000 * beds + 10000 * baths  + 40000 * has_basement\n",
        "    return value\n",
        "\n",
        "# Check your answer\n",
        "q3.check()"
      ],
      "metadata": {
        "execution": {
          "iopub.status.busy": "2025-02-18T23:02:23.66106Z",
          "iopub.execute_input": "2025-02-18T23:02:23.661528Z",
          "iopub.status.idle": "2025-02-18T23:02:23.671665Z",
          "shell.execute_reply.started": "2025-02-18T23:02:23.661497Z",
          "shell.execute_reply": "2025-02-18T23:02:23.670395Z"
        },
        "papermill": {
          "duration": 0.033124,
          "end_time": "2022-02-15T23:56:52.48129",
          "exception": false,
          "start_time": "2022-02-15T23:56:52.448166",
          "status": "completed"
        },
        "tags": [],
        "trusted": true,
        "id": "abab04ce",
        "outputId": "9d9c2003-4e11-4dde-a467-75bfa9583c4a"
      },
      "outputs": [
        {
          "output_type": "display_data",
          "data": {
            "text/plain": "<IPython.core.display.Javascript object>",
            "application/javascript": "parent.postMessage({\"jupyterEvent\": \"custom.exercise_interaction\", \"data\": {\"outcomeType\": 1, \"valueTowardsCompletion\": 0.2, \"interactionType\": 1, \"questionType\": 2, \"questionId\": \"3_EstimateHouseValueBool\", \"learnToolsVersion\": \"0.3.4\", \"failureMessage\": \"\", \"exceptionClass\": \"\", \"trace\": \"\"}}, \"*\")"
          },
          "metadata": {}
        },
        {
          "output_type": "display_data",
          "data": {
            "text/plain": "Correct",
            "text/markdown": "<span style=\"color:#33cc33\">Correct</span>"
          },
          "metadata": {}
        }
      ],
      "execution_count": null
    },
    {
      "id": "516a8afd",
      "cell_type": "code",
      "source": [
        "# Uncomment to see a hint\n",
        "#q3.hint()\n",
        "\n",
        "# Uncomment to view the solution\n",
        "#q3.solution()"
      ],
      "metadata": {
        "execution": {
          "iopub.execute_input": "2022-02-15T23:56:52.536091Z",
          "iopub.status.busy": "2022-02-15T23:56:52.533986Z",
          "iopub.status.idle": "2022-02-15T23:56:52.538793Z",
          "shell.execute_reply": "2022-02-15T23:56:52.538089Z"
        },
        "papermill": {
          "duration": 0.032803,
          "end_time": "2022-02-15T23:56:52.53896",
          "exception": false,
          "start_time": "2022-02-15T23:56:52.506157",
          "status": "completed"
        },
        "tags": [],
        "id": "516a8afd"
      },
      "outputs": [],
      "execution_count": null
    },
    {
      "id": "714cea65",
      "cell_type": "markdown",
      "source": [
        "# Question 4\n",
        "\n",
        "We'll continue our study of boolean arithmetic.  For this question, your task is to provide a description of what happpens when you add booleans.\n",
        "\n",
        "Use the next code cell for your investigation.  Feel free to add or remove any lines of code - use it as your workspace!"
      ],
      "metadata": {
        "papermill": {
          "duration": 0.02506,
          "end_time": "2022-02-15T23:56:52.588859",
          "exception": false,
          "start_time": "2022-02-15T23:56:52.563799",
          "status": "completed"
        },
        "tags": [],
        "id": "714cea65"
      }
    },
    {
      "id": "4f78a6b2",
      "cell_type": "code",
      "source": [
        "print(False + False)\n",
        "print(True + False)\n",
        "print(False + True)\n",
        "print(True + True)\n",
        "print(False + True + True + True)"
      ],
      "metadata": {
        "execution": {
          "iopub.status.busy": "2025-02-18T23:02:36.79021Z",
          "iopub.execute_input": "2025-02-18T23:02:36.790947Z",
          "iopub.status.idle": "2025-02-18T23:02:36.798399Z",
          "shell.execute_reply.started": "2025-02-18T23:02:36.790883Z",
          "shell.execute_reply": "2025-02-18T23:02:36.796807Z"
        },
        "papermill": {
          "duration": 0.034215,
          "end_time": "2022-02-15T23:56:52.649292",
          "exception": false,
          "start_time": "2022-02-15T23:56:52.615077",
          "status": "completed"
        },
        "tags": [],
        "trusted": true,
        "id": "4f78a6b2",
        "outputId": "1767cc35-5885-4699-93cd-d48d10cacb85"
      },
      "outputs": [
        {
          "name": "stdout",
          "text": "0\n1\n1\n2\n3\n",
          "output_type": "stream"
        }
      ],
      "execution_count": null
    },
    {
      "id": "158c2b74",
      "cell_type": "markdown",
      "source": [
        "Once you have an answer, run the code cell below to see the solution.  Viewing the solution will give you credit for answering the problem."
      ],
      "metadata": {
        "papermill": {
          "duration": 0.025079,
          "end_time": "2022-02-15T23:56:52.700169",
          "exception": false,
          "start_time": "2022-02-15T23:56:52.67509",
          "status": "completed"
        },
        "tags": [],
        "id": "158c2b74"
      }
    },
    {
      "id": "e7a74b7a",
      "cell_type": "code",
      "source": [
        "# Check your answer (Run this code cell to receive credit!)\n",
        "q4.check()"
      ],
      "metadata": {
        "execution": {
          "iopub.status.busy": "2025-02-18T23:02:59.868424Z",
          "iopub.execute_input": "2025-02-18T23:02:59.868821Z",
          "iopub.status.idle": "2025-02-18T23:02:59.878013Z",
          "shell.execute_reply.started": "2025-02-18T23:02:59.868793Z",
          "shell.execute_reply": "2025-02-18T23:02:59.876661Z"
        },
        "papermill": {
          "duration": 0.031532,
          "end_time": "2022-02-15T23:56:52.761705",
          "exception": false,
          "start_time": "2022-02-15T23:56:52.730173",
          "status": "completed"
        },
        "tags": [],
        "trusted": true,
        "id": "e7a74b7a",
        "outputId": "9e73c697-69d1-4314-c03d-c775c827a132"
      },
      "outputs": [
        {
          "output_type": "display_data",
          "data": {
            "text/plain": "<IPython.core.display.Javascript object>",
            "application/javascript": "parent.postMessage({\"jupyterEvent\": \"custom.exercise_interaction\", \"data\": {\"outcomeType\": 1, \"valueTowardsCompletion\": 0.2, \"interactionType\": 1, \"questionType\": 4, \"questionId\": \"4_AddingBooleans\", \"learnToolsVersion\": \"0.3.4\", \"failureMessage\": \"\", \"exceptionClass\": \"\", \"trace\": \"\"}}, \"*\")"
          },
          "metadata": {}
        },
        {
          "output_type": "display_data",
          "data": {
            "text/plain": "Correct: \n\nWhen you add booleans, adding `False` is equivalent to adding 0, and adding `True` is equivalent to adding 1.",
            "text/markdown": "<span style=\"color:#33cc33\">Correct:</span> \n\nWhen you add booleans, adding `False` is equivalent to adding 0, and adding `True` is equivalent to adding 1."
          },
          "metadata": {}
        }
      ],
      "execution_count": null
    },
    {
      "id": "e989a409",
      "cell_type": "markdown",
      "source": [
        "# 🌶️ Question 5\n",
        "\n",
        "You own an online shop where you sell rings with custom engravings.  You offer both gold plated and solid gold rings.\n",
        "- Gold plated rings have a base cost of \\\\$50, and you charge \\\\$7 per engraved unit.  \n",
        "- Solid gold rings have a base cost of \\\\$100, and you charge \\\\$10 per engraved unit.\n",
        "- Spaces and punctuation are counted as engraved units.\n",
        "\n",
        "Write a function `cost_of_project()` that takes two arguments:\n",
        "- `engraving` - a Python string with the text of the engraving\n",
        "- `solid_gold` - a Boolean that indicates whether the ring is solid gold\n",
        "\n",
        "It should return the cost of the project.  This question should be fairly challenging, and you may need a hint."
      ],
      "metadata": {
        "papermill": {
          "duration": 0.024396,
          "end_time": "2022-02-15T23:56:52.81114",
          "exception": false,
          "start_time": "2022-02-15T23:56:52.786744",
          "status": "completed"
        },
        "tags": [],
        "id": "e989a409"
      }
    },
    {
      "id": "64c97830",
      "cell_type": "code",
      "source": [
        "def cost_of_project(engraving, solid_gold):\n",
        "    cost = solid_gold * (100 + 10 * len(engraving)) + (not solid_gold) * (50 + 7 * len(engraving))\n",
        "    return cost\n",
        "\n",
        "# Check your answer\n",
        "q5.check()"
      ],
      "metadata": {
        "papermill": {
          "duration": 0.034931,
          "end_time": "2022-02-15T23:56:52.871015",
          "exception": false,
          "start_time": "2022-02-15T23:56:52.836084",
          "status": "completed"
        },
        "tags": [],
        "trusted": true,
        "id": "64c97830"
      },
      "outputs": [],
      "execution_count": null
    },
    {
      "id": "d2d50b92",
      "cell_type": "code",
      "source": [
        "# Uncomment to see a hint\n",
        "#q5.hint()\n",
        "\n",
        "# Uncomment to view the solution\n",
        "q5.solution()"
      ],
      "metadata": {
        "execution": {
          "iopub.status.busy": "2025-02-18T23:05:04.360381Z",
          "iopub.execute_input": "2025-02-18T23:05:04.360824Z",
          "iopub.status.idle": "2025-02-18T23:05:04.370389Z",
          "shell.execute_reply.started": "2025-02-18T23:05:04.360793Z",
          "shell.execute_reply": "2025-02-18T23:05:04.369202Z"
        },
        "papermill": {
          "duration": 0.032387,
          "end_time": "2022-02-15T23:56:52.929176",
          "exception": false,
          "start_time": "2022-02-15T23:56:52.896789",
          "status": "completed"
        },
        "tags": [],
        "trusted": true,
        "id": "d2d50b92",
        "outputId": "93a734ad-0b06-41ad-d12c-e32b330abe53"
      },
      "outputs": [
        {
          "output_type": "display_data",
          "data": {
            "text/plain": "<IPython.core.display.Javascript object>",
            "application/javascript": "parent.postMessage({\"jupyterEvent\": \"custom.exercise_interaction\", \"data\": {\"interactionType\": 3, \"questionType\": 2, \"questionId\": \"5_CustomEngravings\", \"learnToolsVersion\": \"0.3.4\", \"valueTowardsCompletion\": 0.0, \"failureMessage\": \"\", \"exceptionClass\": \"\", \"trace\": \"\", \"outcomeType\": 4}}, \"*\")"
          },
          "metadata": {}
        },
        {
          "output_type": "display_data",
          "data": {
            "text/plain": "Solution: \n```python\ndef cost_of_project(engraving, solid_gold):\n    cost = solid_gold * (100 + 10 * len(engraving)) + (not solid_gold) * (50 + 7 * len(engraving))\n    return cost\n\n```",
            "text/markdown": "<span style=\"color:#33cc99\">Solution:</span> \n```python\ndef cost_of_project(engraving, solid_gold):\n    cost = solid_gold * (100 + 10 * len(engraving)) + (not solid_gold) * (50 + 7 * len(engraving))\n    return cost\n\n```"
          },
          "metadata": {}
        }
      ],
      "execution_count": null
    },
    {
      "id": "f8f238db",
      "cell_type": "markdown",
      "source": [
        "Run the next code cell to calculate the cost of engraving `Charlie+Denver` on a solid gold ring."
      ],
      "metadata": {
        "papermill": {
          "duration": 0.025442,
          "end_time": "2022-02-15T23:56:52.981178",
          "exception": false,
          "start_time": "2022-02-15T23:56:52.955736",
          "status": "completed"
        },
        "tags": [],
        "id": "f8f238db"
      }
    },
    {
      "id": "809d5f2b",
      "cell_type": "code",
      "source": [
        "project_one = cost_of_project(\"Charlie+Denver\", True)\n",
        "print(project_one)"
      ],
      "metadata": {
        "execution": {
          "iopub.execute_input": "2022-02-15T23:56:53.038462Z",
          "iopub.status.busy": "2022-02-15T23:56:53.037566Z",
          "iopub.status.idle": "2022-02-15T23:56:53.04115Z",
          "shell.execute_reply": "2022-02-15T23:56:53.040512Z",
          "shell.execute_reply.started": "2022-02-15T23:30:27.426417Z"
        },
        "papermill": {
          "duration": 0.033363,
          "end_time": "2022-02-15T23:56:53.041309",
          "exception": false,
          "start_time": "2022-02-15T23:56:53.007946",
          "status": "completed"
        },
        "tags": [],
        "id": "809d5f2b"
      },
      "outputs": [],
      "execution_count": null
    },
    {
      "id": "1792deb6",
      "cell_type": "markdown",
      "source": [
        "Use the next code cell to calculate the cost of engraving `08/10/2000` on a gold plated ring."
      ],
      "metadata": {
        "papermill": {
          "duration": 0.025504,
          "end_time": "2022-02-15T23:56:53.093394",
          "exception": false,
          "start_time": "2022-02-15T23:56:53.06789",
          "status": "completed"
        },
        "tags": [],
        "id": "1792deb6"
      }
    },
    {
      "id": "6dc1e58b",
      "cell_type": "code",
      "source": [
        "project_two = cost_of_project(\"08/10/2000\", False)\n",
        "print(project_two)"
      ],
      "metadata": {
        "execution": {
          "iopub.execute_input": "2022-02-15T23:56:53.150257Z",
          "iopub.status.busy": "2022-02-15T23:56:53.149375Z",
          "iopub.status.idle": "2022-02-15T23:56:53.154415Z",
          "shell.execute_reply": "2022-02-15T23:56:53.153758Z",
          "shell.execute_reply.started": "2022-02-15T23:29:10.617644Z"
        },
        "papermill": {
          "duration": 0.03374,
          "end_time": "2022-02-15T23:56:53.154559",
          "exception": false,
          "start_time": "2022-02-15T23:56:53.120819",
          "status": "completed"
        },
        "tags": [],
        "id": "6dc1e58b"
      },
      "outputs": [],
      "execution_count": null
    },
    {
      "id": "24164f77",
      "cell_type": "markdown",
      "source": [
        "# Keep going\n",
        "\n",
        "Continue to the next lesson to **[learn about conditions and conditional statements](https://www.kaggle.com/alexisbcook/conditions-and-conditional-statements)**."
      ],
      "metadata": {
        "papermill": {
          "duration": 0.016828,
          "end_time": "2022-02-15T23:56:53.189102",
          "exception": false,
          "start_time": "2022-02-15T23:56:53.172274",
          "status": "completed"
        },
        "tags": [],
        "id": "24164f77"
      }
    },
    {
      "id": "3d9aabc4",
      "cell_type": "markdown",
      "source": [
        "---\n",
        "\n",
        "\n",
        "\n",
        "\n",
        "*Have questions or comments? Visit the [course discussion forum](https://www.kaggle.com/learn/intro-to-programming/discussion) to chat with other learners.*"
      ],
      "metadata": {
        "id": "3d9aabc4"
      }
    }
  ]
}