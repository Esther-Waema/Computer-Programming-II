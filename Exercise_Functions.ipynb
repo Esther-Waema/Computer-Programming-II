{
  "metadata": {
    "kernelspec": {
      "display_name": "Python 3",
      "language": "python",
      "name": "python3"
    },
    "language_info": {
      "name": "python",
      "version": "3.10.12",
      "mimetype": "text/x-python",
      "codemirror_mode": {
        "name": "ipython",
        "version": 3
      },
      "pygments_lexer": "ipython3",
      "nbconvert_exporter": "python",
      "file_extension": ".py"
    },
    "kaggle": {
      "accelerator": "none",
      "dataSources": [],
      "isInternetEnabled": false,
      "language": "python",
      "sourceType": "notebook",
      "isGpuEnabled": false
    },
    "colab": {
      "name": "Exercise: Functions",
      "provenance": []
    }
  },
  "nbformat_minor": 0,
  "nbformat": 4,
  "cells": [
    {
      "cell_type": "markdown",
      "source": [
        "**This notebook is an exercise in the [Intro to Programming](https://www.kaggle.com/learn/intro-to-programming) course.  You can reference the tutorial at [this link](https://www.kaggle.com/alexisbcook/functions).**\n",
        "\n",
        "---\n"
      ],
      "metadata": {
        "id": "96hK-szMhcLF"
      }
    },
    {
      "cell_type": "markdown",
      "source": [
        "In the tutorial, you learned about functions. In this exercise, you'll write some of your own!\n",
        "\n",
        "# Set up the notebook\n",
        "\n",
        "Run the next code cell without changes to set up the notebook."
      ],
      "metadata": {
        "id": "E5V2zbw0hcLH"
      }
    },
    {
      "cell_type": "code",
      "source": [
        "# Set up the exercise\n",
        "import math\n",
        "from learntools.core import binder\n",
        "binder.bind(globals())\n",
        "from learntools.intro_to_programming.ex2 import *\n",
        "print('Setup complete.')"
      ],
      "metadata": {
        "trusted": true,
        "execution": {
          "iopub.status.busy": "2025-02-18T10:54:26.691844Z",
          "iopub.execute_input": "2025-02-18T10:54:26.69356Z",
          "iopub.status.idle": "2025-02-18T10:54:27.329336Z",
          "shell.execute_reply.started": "2025-02-18T10:54:26.693506Z",
          "shell.execute_reply": "2025-02-18T10:54:27.327944Z"
        },
        "id": "JjBIhMmxhcLI",
        "outputId": "89d4c96a-532a-4881-8b52-25dd360f80b7"
      },
      "outputs": [
        {
          "name": "stdout",
          "text": "Setup complete.\n",
          "output_type": "stream"
        }
      ],
      "execution_count": null
    },
    {
      "cell_type": "markdown",
      "source": [
        "# Question 1\n",
        "\n",
        "In the [House Prices - Advanced Regression Techniques competition](https://www.kaggle.com/c/house-prices-advanced-regression-techniques/overview), you need to use information like the number of bedrooms and bathrooms to predict the price of a house.  Inspired by this competition, you'll write your own function to do this.\n",
        "\n",
        "In the next code cell, create a function `get_expected_cost()` that has two arguments:\n",
        "- `beds` - number of bedrooms\n",
        "- `baths` - number of bathrooms\n",
        "\n",
        "It should return the expected cost of a house with that number of bedrooms and bathrooms.  Assume that:\n",
        "- the expected cost for a house with 0 bedrooms and 0 bathrooms is `80000`.  \n",
        "- each bedroom adds `30000` to the expected cost\n",
        "- each bathroom adds `10000` to the expected cost.\n",
        "\n",
        "For instance,\n",
        "- a house with 1 bedroom and 1 bathroom has an expected cost of `120000`, and\n",
        "- a house with 2 bedrooms and 1 bathroom has an expected cost of `150000`."
      ],
      "metadata": {
        "id": "lCKl7ccOhcLJ"
      }
    },
    {
      "cell_type": "code",
      "source": [
        "# TODO: Complete the function\n",
        "def get_expected_cost(beds, baths):\n",
        "    value = 80000 + 30000 * beds + 10000 * baths\n",
        "\n",
        "    return value\n",
        "\n",
        "# Check your answer\n",
        "q1.check()"
      ],
      "metadata": {
        "execution": {
          "iopub.status.busy": "2025-02-18T11:07:39.35953Z",
          "iopub.execute_input": "2025-02-18T11:07:39.359866Z",
          "iopub.status.idle": "2025-02-18T11:07:39.369439Z",
          "shell.execute_reply.started": "2025-02-18T11:07:39.359838Z",
          "shell.execute_reply": "2025-02-18T11:07:39.368231Z"
        },
        "trusted": true,
        "id": "Z825dUZ6hcLJ",
        "outputId": "104734d3-5d62-44d4-faac-307fe29fc284"
      },
      "outputs": [
        {
          "output_type": "display_data",
          "data": {
            "text/plain": "<IPython.core.display.Javascript object>",
            "application/javascript": "parent.postMessage({\"jupyterEvent\": \"custom.exercise_interaction\", \"data\": {\"outcomeType\": 1, \"valueTowardsCompletion\": 0.2, \"interactionType\": 1, \"questionType\": 2, \"questionId\": \"1_GetExpectedCost\", \"learnToolsVersion\": \"0.3.4\", \"failureMessage\": \"\", \"exceptionClass\": \"\", \"trace\": \"\"}}, \"*\")"
          },
          "metadata": {}
        },
        {
          "output_type": "display_data",
          "data": {
            "text/plain": "Correct",
            "text/markdown": "<span style=\"color:#33cc33\">Correct</span>"
          },
          "metadata": {}
        }
      ],
      "execution_count": null
    },
    {
      "cell_type": "code",
      "source": [
        "# Uncomment to see a hint\n",
        "#q1.hint()\n",
        "\n",
        "# Uncomment to view the solution\n",
        "q1.solution()"
      ],
      "metadata": {
        "execution": {
          "iopub.status.busy": "2025-02-18T11:05:05.808611Z",
          "iopub.execute_input": "2025-02-18T11:05:05.808903Z",
          "iopub.status.idle": "2025-02-18T11:05:05.82019Z",
          "shell.execute_reply.started": "2025-02-18T11:05:05.808884Z",
          "shell.execute_reply": "2025-02-18T11:05:05.817885Z"
        },
        "trusted": true,
        "id": "5xOTEEFRhcLK",
        "outputId": "d618f0ec-c73e-4c7c-e685-f699aea858e3"
      },
      "outputs": [
        {
          "output_type": "display_data",
          "data": {
            "text/plain": "<IPython.core.display.Javascript object>",
            "application/javascript": "parent.postMessage({\"jupyterEvent\": \"custom.exercise_interaction\", \"data\": {\"interactionType\": 3, \"questionType\": 2, \"questionId\": \"1_GetExpectedCost\", \"learnToolsVersion\": \"0.3.4\", \"valueTowardsCompletion\": 0.0, \"failureMessage\": \"\", \"exceptionClass\": \"\", \"trace\": \"\", \"outcomeType\": 4}}, \"*\")"
          },
          "metadata": {}
        },
        {
          "output_type": "display_data",
          "data": {
            "text/plain": "Solution: \n```python\n\ndef get_expected_cost(beds, baths):\n    value = 80000 + 30000 * beds + 10000 * baths\n    return value\n\n```",
            "text/markdown": "<span style=\"color:#33cc99\">Solution:</span> \n```python\n\ndef get_expected_cost(beds, baths):\n    value = 80000 + 30000 * beds + 10000 * baths\n    return value\n\n```"
          },
          "metadata": {}
        }
      ],
      "execution_count": null
    },
    {
      "cell_type": "markdown",
      "source": [
        "# Question 2\n",
        "\n",
        "You are thinking about buying a home and want to get an idea of how much you will spend, based on the number of bedrooms and bathrooms.  You are trying to decide between four different options:\n",
        "- Option 1: house with two bedrooms and three bathrooms\n",
        "- Option 2: house with three bedrooms and two bathrooms\n",
        "- Option 3: house with three bedrooms and three bathrooms\n",
        "- Option 4: house with three bedrooms and four bathrooms\n",
        "\n",
        "Use the `get_expected_cost()` function you defined in question 1 to set `option_1`, `option_2`, `option_3`, and `option_4` to the expected cost of each option."
      ],
      "metadata": {
        "id": "MxEWdBLLhcLK"
      }
    },
    {
      "cell_type": "code",
      "source": [
        "# TODO: Use the get_expected_cost function to fill in each value\n",
        "def get_expected_cost (beds,baths):\n",
        "    value = 80000 + 30000*beds + 10000*baths\n",
        "    return value\n",
        "option_one = get_expected_cost (2,3)\n",
        "option_two = get_expected_cost (3,2)\n",
        "option_three = get_expected_cost (3,3)\n",
        "option_four = get_expected_cost (3,4)\n",
        "\n",
        "print(option_one)\n",
        "print(option_two)\n",
        "print(option_three)\n",
        "print(option_four)\n",
        "\n",
        "# Check your answer\n",
        "q2.check()"
      ],
      "metadata": {
        "execution": {
          "iopub.status.busy": "2025-02-18T11:14:44.994199Z",
          "iopub.execute_input": "2025-02-18T11:14:44.994608Z",
          "iopub.status.idle": "2025-02-18T11:14:45.013093Z",
          "shell.execute_reply.started": "2025-02-18T11:14:44.99457Z",
          "shell.execute_reply": "2025-02-18T11:14:45.011192Z"
        },
        "trusted": true,
        "id": "mac0p8okhcLK",
        "outputId": "7df2a57a-3a16-4f42-f847-ee55777246e8"
      },
      "outputs": [
        {
          "name": "stdout",
          "text": "170000\n190000\n200000\n210000\n",
          "output_type": "stream"
        },
        {
          "output_type": "display_data",
          "data": {
            "text/plain": "<IPython.core.display.Javascript object>",
            "application/javascript": "parent.postMessage({\"jupyterEvent\": \"custom.exercise_interaction\", \"data\": {\"outcomeType\": 1, \"valueTowardsCompletion\": 0.2, \"interactionType\": 1, \"questionType\": 1, \"questionId\": \"2_RunGetExpectedCost\", \"learnToolsVersion\": \"0.3.4\", \"failureMessage\": \"\", \"exceptionClass\": \"\", \"trace\": \"\"}}, \"*\")"
          },
          "metadata": {}
        },
        {
          "output_type": "display_data",
          "data": {
            "text/plain": "Correct",
            "text/markdown": "<span style=\"color:#33cc33\">Correct</span>"
          },
          "metadata": {}
        }
      ],
      "execution_count": null
    },
    {
      "cell_type": "code",
      "source": [
        "# Uncomment to see a hint\n",
        "#q2.hint()\n",
        "\n",
        "# Uncomment to view the solution\n",
        "#q2.solution()"
      ],
      "metadata": {
        "id": "0wo9XMaGhcLK"
      },
      "outputs": [],
      "execution_count": null
    },
    {
      "cell_type": "markdown",
      "source": [
        "# Question 3\n",
        "\n",
        "You're a home decorator, and you'd like to use Python to streamline some of your work.  Specifically, you're creating a tool that you intend to use to calculate the cost of painting a room.\n",
        "\n",
        "As a first step, define a function `get_cost()` that takes as input:\n",
        "- `sqft_walls` = total square feet of walls to be painted\n",
        "- `sqft_ceiling` = square feet of ceiling to be painted\n",
        "- `sqft_per_gallon` = number of square feet that you can cover with one gallon of paint\n",
        "- `cost_per_gallon` = cost (in dollars) of one gallon of paint\n",
        "\n",
        "It should return the cost (in dollars) of putting one coat of paint on all walls and the ceiling.  Assume you can buy the exact amount of paint that you need, so you can buy partial gallons (e.g., if you need 7.523 gallons, you can buy that exact amount, instead of needing to buy 8 gallons and waste some paint).  Do not round your answer."
      ],
      "metadata": {
        "id": "4tFuhJydhcLL"
      }
    },
    {
      "cell_type": "code",
      "source": [
        "# TODO: Finish defining the function\n",
        "def get_cost(sqft_walls, sqft_ceiling, sqft_per_gallon, cost_per_gallon):\n",
        "    cost = ((sqft_walls + sqft_ceiling)/(sqft_per_gallon))*cost_per_gallon\n",
        "    return cost\n",
        "\n",
        "# Check your answer\n",
        "q3.check()"
      ],
      "metadata": {
        "execution": {
          "iopub.status.busy": "2025-02-18T11:17:47.929071Z",
          "iopub.execute_input": "2025-02-18T11:17:47.929393Z",
          "iopub.status.idle": "2025-02-18T11:17:47.937867Z",
          "shell.execute_reply.started": "2025-02-18T11:17:47.929361Z",
          "shell.execute_reply": "2025-02-18T11:17:47.936095Z"
        },
        "trusted": true,
        "id": "EImF9eUWhcLL",
        "outputId": "7b94fc35-8907-4781-a372-bc443b146f50"
      },
      "outputs": [
        {
          "output_type": "display_data",
          "data": {
            "text/plain": "<IPython.core.display.Javascript object>",
            "application/javascript": "parent.postMessage({\"jupyterEvent\": \"custom.exercise_interaction\", \"data\": {\"outcomeType\": 1, \"valueTowardsCompletion\": 0.2, \"interactionType\": 1, \"questionType\": 2, \"questionId\": \"3_GetCostPaint\", \"learnToolsVersion\": \"0.3.4\", \"failureMessage\": \"\", \"exceptionClass\": \"\", \"trace\": \"\"}}, \"*\")"
          },
          "metadata": {}
        },
        {
          "output_type": "display_data",
          "data": {
            "text/plain": "Correct",
            "text/markdown": "<span style=\"color:#33cc33\">Correct</span>"
          },
          "metadata": {}
        }
      ],
      "execution_count": null
    },
    {
      "cell_type": "code",
      "source": [
        "# Uncomment to see a hint\n",
        "#q3.hint()\n",
        "\n",
        "# Uncomment to view the solution\n",
        "#q3.solution()"
      ],
      "metadata": {
        "id": "Nqo3pnhghcLL"
      },
      "outputs": [],
      "execution_count": null
    },
    {
      "cell_type": "markdown",
      "source": [
        "# Question 4\n",
        "\n",
        "Use the `get_cost()` function you defined in Question 3 to calculate the cost of applying one coat of paint to a room with:\n",
        "- 432 square feet of walls, and\n",
        "- 144 square feet of ceiling.\n",
        "\n",
        "Assume that one gallon of paint covers 400 square feet and costs $15.  As in Question 3, assume you can buy partial gallons of paint.  Do not round your answer."
      ],
      "metadata": {
        "id": "ZI540p07hcLM"
      }
    },
    {
      "cell_type": "code",
      "source": [
        "# TODO: Set the project_cost variable to the cost of the project\n",
        "def get_cost(sqft_walls, sqft_ceiling, sqft_per_gallon, cost_per_gallon):\n",
        "    cost = ((sqft_walls + sqft_ceiling)/(sqft_per_gallon))*cost_per_gallon\n",
        "    return cost\n",
        "project_cost = get_cost(432,144,400,15)\n",
        "print(project_cost)\n",
        "\n",
        "# Check your answer\n",
        "q4.check()"
      ],
      "metadata": {
        "execution": {
          "iopub.status.busy": "2025-02-18T11:23:07.522417Z",
          "iopub.execute_input": "2025-02-18T11:23:07.522804Z",
          "iopub.status.idle": "2025-02-18T11:23:07.535471Z",
          "shell.execute_reply.started": "2025-02-18T11:23:07.52277Z",
          "shell.execute_reply": "2025-02-18T11:23:07.534163Z"
        },
        "trusted": true,
        "id": "i5NxU6eKhcLM",
        "outputId": "8a7ace7f-79b1-4628-8f51-1a1713b972a2"
      },
      "outputs": [
        {
          "name": "stdout",
          "text": "21.599999999999998\n",
          "output_type": "stream"
        },
        {
          "output_type": "display_data",
          "data": {
            "text/plain": "<IPython.core.display.Javascript object>",
            "application/javascript": "parent.postMessage({\"jupyterEvent\": \"custom.exercise_interaction\", \"data\": {\"outcomeType\": 1, \"valueTowardsCompletion\": 0.2, \"interactionType\": 1, \"questionType\": 1, \"questionId\": \"4_GetCostPaintExample\", \"learnToolsVersion\": \"0.3.4\", \"failureMessage\": \"\", \"exceptionClass\": \"\", \"trace\": \"\"}}, \"*\")"
          },
          "metadata": {}
        },
        {
          "output_type": "display_data",
          "data": {
            "text/plain": "Correct",
            "text/markdown": "<span style=\"color:#33cc33\">Correct</span>"
          },
          "metadata": {}
        }
      ],
      "execution_count": null
    },
    {
      "cell_type": "code",
      "source": [
        "# Uncomment to see a hint\n",
        "#q4.hint()\n",
        "\n",
        "# Uncomment to view the solution\n",
        "#q4.solution()"
      ],
      "metadata": {
        "id": "tnHOHEc5hcLM"
      },
      "outputs": [],
      "execution_count": null
    },
    {
      "cell_type": "markdown",
      "source": [
        "# 🌶️ Question 5\n",
        "\n",
        "Now say you can no longer buy fractions of a gallon.  (For instance, if you need 4.3 gallons to do a project, then you have to buy 5 gallons of paint.)\n",
        "\n",
        "With this new scenario, you will create a new function `get_actual_cost` that uses the same inputs and calculates the cost of your project.\n",
        "\n",
        "One function that you'll need to use to do this is `math.ceil()`.  We demonstrate usage of this function in the code cell below.  It takes as a number as input and rounds the number up to the nearest integer.  \n",
        "\n",
        "Run the next code cell to test this function for yourself.  Feel free to change the value of `test_value` and make sure `math.ceil()` returns the number you expect."
      ],
      "metadata": {
        "id": "pxECcLcthcLN"
      }
    },
    {
      "cell_type": "code",
      "source": [
        "test_value = 2.17\n",
        "\n",
        "rounded_value = math.ceil(test_value)\n",
        "print(rounded_value)"
      ],
      "metadata": {
        "execution": {
          "iopub.status.busy": "2025-02-18T11:24:11.261011Z",
          "iopub.execute_input": "2025-02-18T11:24:11.261406Z",
          "iopub.status.idle": "2025-02-18T11:24:11.267149Z",
          "shell.execute_reply.started": "2025-02-18T11:24:11.261373Z",
          "shell.execute_reply": "2025-02-18T11:24:11.265544Z"
        },
        "trusted": true,
        "id": "Lioyot45hcLO",
        "outputId": "4c3aa670-fdab-4b9b-b41d-465424f95030"
      },
      "outputs": [
        {
          "name": "stdout",
          "text": "3\n",
          "output_type": "stream"
        }
      ],
      "execution_count": null
    },
    {
      "cell_type": "markdown",
      "source": [
        "Use the next code cell to define the function `get_actual_cost()`.  You'll need to use the `math.ceil()` function to do this.\n",
        "\n",
        "When answering this question, note that it's completely valid to define a function that makes use of another function.  For instance, we can define a function `round_up_and_divide_by_three` that makes use of the `math.ceil` function:\n",
        "```\n",
        "def round_up_and_divide_by_three(num):\n",
        "    new_value = math.ceil(num)\n",
        "    final_value = new_value / 3\n",
        "    return final_value\n",
        "```"
      ],
      "metadata": {
        "id": "0d-e-p3yhcLO"
      }
    },
    {
      "cell_type": "code",
      "source": [
        "def get_actual_cost(sqft_walls, sqft_ceiling, sqft_per_gallon, cost_per_gallon):\n",
        "    cost = math.ceil(get_actual_cost)\n",
        "    return cost\n",
        "\n",
        "# Check your answer\n",
        "q5.check()"
      ],
      "metadata": {
        "execution": {
          "iopub.status.busy": "2025-02-18T11:25:23.691529Z",
          "iopub.execute_input": "2025-02-18T11:25:23.691901Z",
          "iopub.status.idle": "2025-02-18T11:25:23.708362Z",
          "shell.execute_reply.started": "2025-02-18T11:25:23.691869Z",
          "shell.execute_reply": "2025-02-18T11:25:23.706527Z"
        },
        "trusted": true,
        "id": "msQlGWb7hcLP",
        "outputId": "ee0fa65c-2d93-4b3f-e900-1d73da54c755"
      },
      "outputs": [
        {
          "output_type": "display_data",
          "data": {
            "text/plain": "<IPython.core.display.Javascript object>",
            "application/javascript": "parent.postMessage({\"jupyterEvent\": \"custom.exercise_interaction\", \"data\": {\"outcomeType\": 3, \"exceptionClass\": \"TypeError\", \"trace\": \"  File \\\"/usr/local/lib/python3.10/dist-packages/learntools/core/problem.py\\\", line 239, in check\\n    actual = fn(*args)\\n\\n  File \\\"<ipython-input-16-ede6dd2ef0ba>\\\", line 2, in get_actual_cost\\n    cost = math.ceil(get_actual_cost)\\n\", \"failureMessage\": \"When calling your function with arguments `[432, 144, 400, 15]`, Python raised the following exception... **`TypeError: must be real number, not function`**\", \"interactionType\": 1, \"questionType\": 2, \"questionId\": \"5_NoMoreFractions\", \"learnToolsVersion\": \"0.3.4\", \"valueTowardsCompletion\": 0.0}}, \"*\")"
          },
          "metadata": {}
        },
        {
          "output_type": "display_data",
          "data": {
            "text/plain": "Incorrect: When calling your function with arguments `[432, 144, 400, 15]`, Python raised the following exception... **`TypeError: must be real number, not function`**",
            "text/markdown": "<span style=\"color:#cc3333\">Incorrect:</span> When calling your function with arguments `[432, 144, 400, 15]`, Python raised the following exception... **`TypeError: must be real number, not function`**"
          },
          "metadata": {}
        }
      ],
      "execution_count": null
    },
    {
      "cell_type": "code",
      "source": [
        "# Uncomment to see a hint\n",
        "#q5.hint()\n",
        "\n",
        "# Uncomment to view the solution\n",
        "q5.solution()"
      ],
      "metadata": {
        "trusted": true,
        "execution": {
          "iopub.status.busy": "2025-02-18T11:26:58.884604Z",
          "iopub.execute_input": "2025-02-18T11:26:58.884988Z",
          "iopub.status.idle": "2025-02-18T11:26:58.893416Z",
          "shell.execute_reply.started": "2025-02-18T11:26:58.884924Z",
          "shell.execute_reply": "2025-02-18T11:26:58.892418Z"
        },
        "id": "MQb2ORRhhcLP",
        "outputId": "80b786b8-b92d-4daf-86d7-8593a8bce154"
      },
      "outputs": [
        {
          "output_type": "display_data",
          "data": {
            "text/plain": "<IPython.core.display.Javascript object>",
            "application/javascript": "parent.postMessage({\"jupyterEvent\": \"custom.exercise_interaction\", \"data\": {\"interactionType\": 3, \"questionType\": 2, \"questionId\": \"5_NoMoreFractions\", \"learnToolsVersion\": \"0.3.4\", \"valueTowardsCompletion\": 0.0, \"failureMessage\": \"\", \"exceptionClass\": \"\", \"trace\": \"\", \"outcomeType\": 4}}, \"*\")"
          },
          "metadata": {}
        },
        {
          "output_type": "display_data",
          "data": {
            "text/plain": "Solution: \n```python\ndef get_actual_cost(sqft_walls, sqft_ceiling, sqft_per_gallon, cost_per_gallon):\n    total_sqft = sqft_walls + sqft_ceiling\n    gallons_needed = total_sqft / sqft_per_gallon\n    gallons_to_buy = math.ceil(gallons_needed)\n    cost = cost_per_gallon * gallons_to_buy\n    return cost\n\n```",
            "text/markdown": "<span style=\"color:#33cc99\">Solution:</span> \n```python\ndef get_actual_cost(sqft_walls, sqft_ceiling, sqft_per_gallon, cost_per_gallon):\n    total_sqft = sqft_walls + sqft_ceiling\n    gallons_needed = total_sqft / sqft_per_gallon\n    gallons_to_buy = math.ceil(gallons_needed)\n    cost = cost_per_gallon * gallons_to_buy\n    return cost\n\n```"
          },
          "metadata": {}
        }
      ],
      "execution_count": null
    },
    {
      "cell_type": "markdown",
      "source": [
        "Once your function is verified as correct, run the next code cell to calculate the updated cost of your project."
      ],
      "metadata": {
        "id": "SCu5ZueUhcLP"
      }
    },
    {
      "cell_type": "code",
      "source": [
        "get_actual_cost(432, 144, 400, 15)"
      ],
      "metadata": {
        "execution": {
          "iopub.execute_input": "2022-01-11T15:49:59.472436Z",
          "iopub.status.busy": "2022-01-11T15:49:59.472141Z",
          "iopub.status.idle": "2022-01-11T15:49:59.479131Z",
          "shell.execute_reply": "2022-01-11T15:49:59.477864Z",
          "shell.execute_reply.started": "2022-01-11T15:49:59.472406Z"
        },
        "id": "3klJtqQKhcLP"
      },
      "outputs": [],
      "execution_count": null
    },
    {
      "cell_type": "markdown",
      "source": [
        "Say you're working with a slightly larger room.  Run the next code cell to calculate the cost of the project."
      ],
      "metadata": {
        "id": "Ae_gczc7hcLQ"
      }
    },
    {
      "cell_type": "code",
      "source": [
        "get_actual_cost(594, 288, 400, 15)"
      ],
      "metadata": {
        "execution": {
          "iopub.execute_input": "2022-01-11T16:04:36.645519Z",
          "iopub.status.busy": "2022-01-11T16:04:36.644695Z",
          "iopub.status.idle": "2022-01-11T16:04:36.650348Z",
          "shell.execute_reply": "2022-01-11T16:04:36.649731Z",
          "shell.execute_reply.started": "2022-01-11T16:04:36.64547Z"
        },
        "id": "FGj8SoOzhcLQ"
      },
      "outputs": [],
      "execution_count": null
    },
    {
      "cell_type": "markdown",
      "source": [
        "# Keep going\n",
        "\n",
        "Continue to learn about **[data types](https://www.kaggle.com/alexisbcook/data-types)**."
      ],
      "metadata": {
        "id": "G0voj2hphcLQ"
      }
    },
    {
      "cell_type": "markdown",
      "source": [
        "---\n",
        "\n",
        "\n",
        "\n",
        "\n",
        "*Have questions or comments? Visit the [course discussion forum](https://www.kaggle.com/learn/intro-to-programming/discussion) to chat with other learners.*"
      ],
      "metadata": {
        "id": "Ozr1OFdXhcLQ"
      }
    }
  ]
}