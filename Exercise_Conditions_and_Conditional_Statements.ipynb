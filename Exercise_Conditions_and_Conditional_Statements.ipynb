{
  "metadata": {
    "kernelspec": {
      "language": "python",
      "display_name": "Python 3",
      "name": "python3"
    },
    "language_info": {
      "name": "python",
      "version": "3.10.12",
      "mimetype": "text/x-python",
      "codemirror_mode": {
        "name": "ipython",
        "version": 3
      },
      "pygments_lexer": "ipython3",
      "nbconvert_exporter": "python",
      "file_extension": ".py"
    },
    "kaggle": {
      "accelerator": "none",
      "dataSources": [],
      "isInternetEnabled": false,
      "language": "python",
      "sourceType": "notebook",
      "isGpuEnabled": false
    },
    "colab": {
      "name": "Exercise: Conditions and Conditional Statements",
      "provenance": []
    }
  },
  "nbformat_minor": 0,
  "nbformat": 4,
  "cells": [
    {
      "cell_type": "markdown",
      "source": [
        "**This notebook is an exercise in the [Intro to Programming](https://www.kaggle.com/learn/intro-to-programming) course.  You can reference the tutorial at [this link](https://www.kaggle.com/alexisbcook/conditions-and-conditional-statements).**\n",
        "\n",
        "---\n"
      ],
      "metadata": {
        "id": "kuJ2o16lc3Az"
      }
    },
    {
      "cell_type": "markdown",
      "source": [
        "In the tutorial, you learned about conditions and conditional statements. In this exercise, you will use what you learned to answer several questions.\n",
        "\n",
        "# Set up the notebook\n",
        "\n",
        "Run the next code cell without changes to set up the notebook."
      ],
      "metadata": {
        "id": "HeZ42-exc3A2"
      }
    },
    {
      "cell_type": "code",
      "source": [
        "from learntools.core import binder\n",
        "binder.bind(globals())\n",
        "from learntools.intro_to_programming.ex4 import *\n",
        "print('Setup complete.')"
      ],
      "metadata": {
        "execution": {
          "iopub.status.busy": "2025-02-18T23:17:00.708728Z",
          "iopub.execute_input": "2025-02-18T23:17:00.709043Z",
          "iopub.status.idle": "2025-02-18T23:17:01.450498Z",
          "shell.execute_reply.started": "2025-02-18T23:17:00.709002Z",
          "shell.execute_reply": "2025-02-18T23:17:01.449622Z"
        },
        "trusted": true,
        "id": "ogSdiQVxc3A2",
        "outputId": "d5c88c5f-4ca7-4229-a1ed-60df871899bb"
      },
      "outputs": [
        {
          "name": "stdout",
          "text": "Setup complete.\n",
          "output_type": "stream"
        }
      ],
      "execution_count": null
    },
    {
      "cell_type": "markdown",
      "source": [
        "# Question 1\n",
        "\n",
        "You work at a college admissions office.  When inspecting a dataset of college applicants, you notice that some students have represented their grades with letters (`\"A\"`, `\"B\"`, `\"C\"`, `\"D\"`, `\"F\"`), whereas others have represented their grades with a number between 0 and 100.\n",
        "\n",
        "You realize that for consistency, all of the grades should be formatted in the same way, and you decide to format them all as letters.  For the conversion, you decide to assign:\n",
        "- `\"A\"` - any grade 90-100, inclusive\n",
        "- `\"B\"` - any grade 80-89, inclusive\n",
        "- `\"C\"` - any grade 70-79, inclusive\n",
        "- `\"D\"` - any grade 60-69, inclusive\n",
        "- `\"F\"` - any grade <60\n",
        "\n",
        "Write a function `get_grade()` that takes as input:\n",
        "- `score` - an integer 0-100 corresponding to a numerical grade\n",
        "\n",
        "It should return a Python string with the letter grade that it corresponds to.  For instance,\n",
        "- A score of 85 corresponds to a B grade.  In other words, `get_grade(85)` should return `\"B\"`.\n",
        "- A score of 49 corresponds to an F grade.  In other words, `get_grade(49)` should return `\"F\"`.\n",
        "\n",
        "Make sure that when supplying the grade that is returned by the function, it is enclosed in quotes.  (For instance, if you want to return `\"A\"`, you should write `return \"A\"` and not `return A`.)"
      ],
      "metadata": {
        "id": "5_ujlWVbc3A3"
      }
    },
    {
      "cell_type": "code",
      "source": [
        "# TODO: Edit the function to return the correct grade for different scores\n",
        "def get_grade(score):\n",
        "     if score >= 90:\n",
        "       grade = \"A\"\n",
        "     elif score >= 80:\n",
        "       grade = \"B\"\n",
        "     elif score >= 70:\n",
        "       grade = \"C\"\n",
        "     elif score >= 60:\n",
        "       grade = \"D\"\n",
        "     else:\n",
        "         grade = \"F\"\n",
        "     return grade\n",
        "\n",
        "# Check your answer\n",
        "q1.check()"
      ],
      "metadata": {
        "trusted": true,
        "execution": {
          "iopub.status.busy": "2025-02-18T23:24:36.857034Z",
          "iopub.execute_input": "2025-02-18T23:24:36.857324Z",
          "iopub.status.idle": "2025-02-18T23:24:36.864746Z",
          "shell.execute_reply.started": "2025-02-18T23:24:36.857301Z",
          "shell.execute_reply": "2025-02-18T23:24:36.863646Z"
        },
        "id": "N9QXDo4tc3A4",
        "outputId": "75b0e070-215a-4b99-eb81-0ab63a1f40d8"
      },
      "outputs": [
        {
          "output_type": "display_data",
          "data": {
            "text/plain": "<IPython.core.display.Javascript object>",
            "application/javascript": "parent.postMessage({\"jupyterEvent\": \"custom.exercise_interaction\", \"data\": {\"outcomeType\": 1, \"valueTowardsCompletion\": 0.2, \"interactionType\": 1, \"questionType\": 2, \"questionId\": \"1_GetGrade\", \"learnToolsVersion\": \"0.3.4\", \"failureMessage\": \"\", \"exceptionClass\": \"\", \"trace\": \"\"}}, \"*\")"
          },
          "metadata": {}
        },
        {
          "output_type": "display_data",
          "data": {
            "text/plain": "Correct",
            "text/markdown": "<span style=\"color:#33cc33\">Correct</span>"
          },
          "metadata": {}
        }
      ],
      "execution_count": null
    },
    {
      "cell_type": "code",
      "source": [
        "# Uncomment to see a hint\n",
        "#q1.hint()\n",
        "\n",
        "# Uncomment to see the solution\n",
        "#q1.solution()"
      ],
      "metadata": {
        "id": "nAWaepMec3A4"
      },
      "outputs": [],
      "execution_count": null
    },
    {
      "cell_type": "markdown",
      "source": [
        "# Question 2\n",
        "\n",
        "In the exercise for the previous lesson, you wrote a function `cost_of_project()` that estimated the price of rings for an online shop that sells rings with custom engravings.  This function did not use conditional statements.  In this exercise, you will rewrite the function to use conditional statements.  Recall that the online shop has the following price structure:\n",
        "- Gold plated rings have a base cost of \\\\$50, and you charge \\\\$7 per engraved unit.  \n",
        "- Solid gold rings have a base cost of \\\\$100, and you charge \\\\$10 per engraved unit.\n",
        "- Spaces and punctuation are counted as engraved units.\n",
        "\n",
        "Your function `cost_of_project()` takes two arguments:\n",
        "- `engraving` - a Python string with the text of the engraving\n",
        "- `solid_gold` - a Boolean that indicates whether the ring is solid gold\n",
        "\n",
        "It should return the cost of the project.  \n",
        "\n",
        "The function has been partially completed for you, and you need to fill in the blanks to complete the function."
      ],
      "metadata": {
        "id": "A_nANYo1c3A4"
      }
    },
    {
      "cell_type": "code",
      "source": [
        "def cost_of_project(engraving, solid_gold):\n",
        "    if solid_gold == True:\n",
        "        cost = solid_gold * (100 + 10 * len(engraving))\n",
        "    else:\n",
        "        cost = 50 + 7 * len(engraving)\n",
        "    return cost\n",
        "\n",
        "# Check your answer\n",
        "q2.check()"
      ],
      "metadata": {
        "trusted": true,
        "execution": {
          "iopub.status.busy": "2025-02-18T23:29:15.214011Z",
          "iopub.execute_input": "2025-02-18T23:29:15.214287Z",
          "iopub.status.idle": "2025-02-18T23:29:15.2205Z",
          "shell.execute_reply.started": "2025-02-18T23:29:15.21427Z",
          "shell.execute_reply": "2025-02-18T23:29:15.219359Z"
        },
        "id": "buqzSJLJc3A5",
        "outputId": "27937dc3-9d5a-442a-b86d-2b6888218cd8"
      },
      "outputs": [
        {
          "output_type": "display_data",
          "data": {
            "text/plain": "<IPython.core.display.Javascript object>",
            "application/javascript": "parent.postMessage({\"jupyterEvent\": \"custom.exercise_interaction\", \"data\": {\"outcomeType\": 1, \"valueTowardsCompletion\": 0.2, \"interactionType\": 1, \"questionType\": 2, \"questionId\": \"2_CostProjectPartDeux\", \"learnToolsVersion\": \"0.3.4\", \"failureMessage\": \"\", \"exceptionClass\": \"\", \"trace\": \"\"}}, \"*\")"
          },
          "metadata": {}
        },
        {
          "output_type": "display_data",
          "data": {
            "text/plain": "Correct",
            "text/markdown": "<span style=\"color:#33cc33\">Correct</span>"
          },
          "metadata": {}
        }
      ],
      "execution_count": null
    },
    {
      "cell_type": "code",
      "source": [
        "# Uncomment to see a hint\n",
        "#q2.hint()\n",
        "\n",
        "# Uncomment to see the solution\n",
        "#q2.solution()"
      ],
      "metadata": {
        "id": "rTVq9fLyc3A5"
      },
      "outputs": [],
      "execution_count": null
    },
    {
      "cell_type": "markdown",
      "source": [
        "# Question 3\n",
        "\n",
        "You are a programmer at a water agency.  Recently, you have been tasked to write a function `get_water_bill()` that takes as input:\n",
        "- `num_gallons` = the number of gallons of water that a customer used that month.  (This will always be an integer with no decimal part.)\n",
        "\n",
        "It should output the water bill.  \n",
        "\n",
        "The water agency uses this pricing structure:\n",
        "<table style=\"width: 100%;\">\n",
        "<tbody>\n",
        "<tr><th><b>Tier</b></th><th><b>Amount in gallons</b></th><th><b>Price per 1000 gallons</b></th></tr>\n",
        "<tr>\n",
        "<td>Tier 1</td>\n",
        "<td>0 - 8,000</td>\n",
        "<td>\\$5</td>\n",
        "</tr>\n",
        "<tr>\n",
        "<td>Tier 2</td>\n",
        "<td>8,001 - 22,000</td>\n",
        "<td>\\$6</td>\n",
        "</tr>\n",
        "<tr>\n",
        "<td>Tier 3</td>\n",
        "<td>22,001 - 30,000</td>\n",
        "<td>\\$7</td>\n",
        "</tr>\n",
        "<tr>\n",
        "<td>Tier 4</td>\n",
        "<td>30,001+</td>\n",
        "<td>\\$10</td>\n",
        "</tr>\n",
        "</tbody>\n",
        "</table>\n",
        "\n",
        "For example:\n",
        "- Someone who uses 10,000 gallons of water in a month is placed in Tier 2, and needs to pay a water bill of \\\\$6 * 10 = \\\\$60.  In other words, `get_water_bill(10000)` should return `60.0`.\n",
        "- Someone who uses 25,000 gallons of water in a month is placed in Tier 3, and needs to pay a water bill of \\\\$7 * 25 = \\\\$175.  In other words, `get_water_bill(25000)` should return `175.0`.\n",
        "\n",
        "**Do not round your answer.**  So, your answer might return fractions of a penny."
      ],
      "metadata": {
        "id": "i3d0TuzUc3A5"
      }
    },
    {
      "cell_type": "code",
      "source": [
        "# TODO: Edit the function to return the correct bill for different\n",
        "# values of num_gallons\n",
        "def get_water_bill(num_gallons):\n",
        "    if num_gallons <= 8000:\n",
        "        bill = (num_gallons/1000) * 5\n",
        "    elif num_gallons <= 22000:\n",
        "        bill = (num_gallons/1000) * 6\n",
        "    elif num_gallons <= 30000:\n",
        "        bill = (num_gallons/1000) * 7\n",
        "    else:\n",
        "        bill = (num_gallons/1000) * 10\n",
        "\n",
        "    return bill\n",
        "\n",
        "# Check your answer\n",
        "q3.check()"
      ],
      "metadata": {
        "execution": {
          "iopub.status.busy": "2025-02-18T23:35:56.650775Z",
          "iopub.execute_input": "2025-02-18T23:35:56.651083Z",
          "iopub.status.idle": "2025-02-18T23:35:56.658079Z",
          "shell.execute_reply.started": "2025-02-18T23:35:56.651047Z",
          "shell.execute_reply": "2025-02-18T23:35:56.65728Z"
        },
        "trusted": true,
        "id": "kCYb-gVnc3A6",
        "outputId": "7a5033d6-14d2-4a96-d0f3-9e4f5a6850ad"
      },
      "outputs": [
        {
          "output_type": "display_data",
          "data": {
            "text/plain": "<IPython.core.display.Javascript object>",
            "application/javascript": "parent.postMessage({\"jupyterEvent\": \"custom.exercise_interaction\", \"data\": {\"outcomeType\": 1, \"valueTowardsCompletion\": 0.2, \"interactionType\": 1, \"questionType\": 2, \"questionId\": \"3_GetWaterBill\", \"learnToolsVersion\": \"0.3.4\", \"failureMessage\": \"\", \"exceptionClass\": \"\", \"trace\": \"\"}}, \"*\")"
          },
          "metadata": {}
        },
        {
          "output_type": "display_data",
          "data": {
            "text/plain": "Correct",
            "text/markdown": "<span style=\"color:#33cc33\">Correct</span>"
          },
          "metadata": {}
        }
      ],
      "execution_count": null
    },
    {
      "cell_type": "code",
      "source": [
        "# Uncomment to see a hint\n",
        "#q3.hint()\n",
        "\n",
        "# Uncomment to see the solution\n",
        "#q3.solution()"
      ],
      "metadata": {
        "execution": {
          "iopub.execute_input": "2022-03-04T20:34:33.082422Z",
          "iopub.status.busy": "2022-03-04T20:34:33.081561Z",
          "iopub.status.idle": "2022-03-04T20:34:33.090585Z",
          "shell.execute_reply": "2022-03-04T20:34:33.089714Z",
          "shell.execute_reply.started": "2022-03-04T20:34:33.082378Z"
        },
        "id": "5vK0MgE8c3A6"
      },
      "outputs": [],
      "execution_count": null
    },
    {
      "cell_type": "markdown",
      "source": [
        "# Question 4\n",
        "\n",
        "You work for a company that provides data services.  For \\\\$100/month, your company provides 15 gigabytes (GB) of data.  Then, any additional data is billed at \\\\$0.10/MB (or \\\\$100/GB, since 1,000 MB are in 1 GB).\n",
        "\n",
        "Use the next code cell to write a function `get_phone_bill()` that takes as input:\n",
        "- `gb` = number of GB that the customer used in a month\n",
        "\n",
        "It should return the customer's total phone bill.\n",
        "\n",
        "For instance:\n",
        "- A customer who uses 10 GB of data in one month is billed only \\\\$100, since the usage stayed under 15 GB.  In other words, `get_phone_bill(10)` should return `100`.\n",
        "- A customer who uses 15.1 GB (or 15 GB + 100 MB) of data in one month has gone over by .1 GB, so they must pay \\\\$100 (cost of plan), plus \\\\$0.10 * 100 = \\\\$10, for a total bill of \\\\$110.  In other words, `get_phone_bill(15.1)` should return `110`.\n",
        "\n",
        "Do not round your answer."
      ],
      "metadata": {
        "id": "fppGjFBTc3A6"
      }
    },
    {
      "cell_type": "code",
      "source": [
        "# TODO: Edit the function to return the correct bill for different\n",
        "# values of GB\n",
        "def get_phone_bill(gb):\n",
        "    if gb <= 15:\n",
        "        bill = 100\n",
        "    else:\n",
        "        bill = 100 + ((gb-15)*1000) * 0.1\n",
        "    return bill\n",
        "\n",
        "# Check your answer\n",
        "q4.check()"
      ],
      "metadata": {
        "execution": {
          "iopub.status.busy": "2025-02-18T23:40:11.815519Z",
          "iopub.execute_input": "2025-02-18T23:40:11.815903Z",
          "iopub.status.idle": "2025-02-18T23:40:11.824488Z",
          "shell.execute_reply.started": "2025-02-18T23:40:11.81587Z",
          "shell.execute_reply": "2025-02-18T23:40:11.823534Z"
        },
        "trusted": true,
        "id": "icC_7bESc3A6",
        "outputId": "cc962244-9395-4b80-fd2a-d80e5560f058"
      },
      "outputs": [
        {
          "output_type": "display_data",
          "data": {
            "text/plain": "<IPython.core.display.Javascript object>",
            "application/javascript": "parent.postMessage({\"jupyterEvent\": \"custom.exercise_interaction\", \"data\": {\"outcomeType\": 1, \"valueTowardsCompletion\": 0.2, \"interactionType\": 1, \"questionType\": 2, \"questionId\": \"4_GetPhoneBill\", \"learnToolsVersion\": \"0.3.4\", \"failureMessage\": \"\", \"exceptionClass\": \"\", \"trace\": \"\"}}, \"*\")"
          },
          "metadata": {}
        },
        {
          "output_type": "display_data",
          "data": {
            "text/plain": "Correct",
            "text/markdown": "<span style=\"color:#33cc33\">Correct</span>"
          },
          "metadata": {}
        }
      ],
      "execution_count": null
    },
    {
      "cell_type": "code",
      "source": [
        "# Uncomment to see a hint\n",
        "#q4.hint()\n",
        "\n",
        "# Uncomment to see the solution\n",
        "#q4.solution()"
      ],
      "metadata": {
        "execution": {
          "iopub.execute_input": "2022-03-04T20:34:33.103212Z",
          "iopub.status.busy": "2022-03-04T20:34:33.102859Z",
          "iopub.status.idle": "2022-03-04T20:34:33.113856Z",
          "shell.execute_reply": "2022-03-04T20:34:33.113164Z",
          "shell.execute_reply.started": "2022-03-04T20:34:33.103179Z"
        },
        "id": "TcnEcNY1c3A7"
      },
      "outputs": [],
      "execution_count": null
    },
    {
      "cell_type": "markdown",
      "source": [
        "# 🌶️ Question 5\n",
        "\n",
        "In Mexico, foods and beverages that are high in saturated fat, trans fat, sugar, sodium, and/or calories appear with warning labels that are designed to help consumers make healthy food choices.\n",
        "\n",
        "For instance, the [box of cookies](https://world.openfoodfacts.org/product/7501000673209/florentinas-gamesa) in the image below appears with two labels (in the upper right corner):\n",
        "- EXCESO CALORÍAS (in English, EXCESS CALORIES)\n",
        "- EXCESO AZÚCARES (in English, EXCESS SUGAR)\n",
        "\n",
        "<center><img src=\"https://storage.googleapis.com/kaggle-media/learn/images/VXYKHnM.png\" alt=\"drawing\" width=\"500\"/></center>\n",
        "\n",
        "In this question, you'll work with a function `get_labels()` that takes the nutritional details about a food item and prints the needed warning labels.  This function takes several inputs:\n",
        "- `food_type` = one of `\"solid\"` or `\"liquid\"`\n",
        "- `serving_size` = size of one serving (if solid, in grams; if liquid, in milliliters)\n",
        "- `calories_per_serving` = calories in one serving\n",
        "- `saturated_fat_g` = grams of saturated fat in one serving\n",
        "- `trans_fat_g` = grams of trans fat in one serving\n",
        "- `sodium_mg` = mg of sodium in one serving\n",
        "- `sugars_g` = grams of sugar in one serving\n",
        "\n",
        "Note that some of the code here should feel unfamiliar to you, since we have not shared the details of how some of the functions like `excess_sugar()` or `excess_saturated_fat()` work.  But at a high level, these are functions that return a value of `True` if the food is deemed to have an excess of sugar or saturated fat, respectively.  These functions are used within the `get_labels()` function, and whenever there is an excess (of sugar or saturated fat, but also of trans fat, sodium, or calories), it prints the corresponding label."
      ],
      "metadata": {
        "id": "72fCTHNrc3A7"
      }
    },
    {
      "cell_type": "code",
      "source": [
        "# import functions needed to make get_labels work\n",
        "from learntools.intro_to_programming.ex4q5 import excess_sugar, excess_saturated_fat, excess_trans_fat, excess_sodium, excess_calories\n",
        "\n",
        "def get_labels(food_type, serving_size, calories_per_serving, saturated_fat_g, trans_fat_g, sodium_mg, sugars_g):\n",
        "    # Print messages based on findings\n",
        "    if excess_sugar(sugars_g, calories_per_serving) == True:\n",
        "        print(\"EXCESO AZÚCARES / EXCESS SUGAR\")\n",
        "    if excess_saturated_fat(saturated_fat_g, calories_per_serving) == True:\n",
        "        print(\"EXCESO GRASAS SATURADAS / EXCESS SATURATED FAT\")\n",
        "    if excess_trans_fat(trans_fat_g, calories_per_serving) == True:\n",
        "        print(\"EXCESO GRASAS TRANS / EXCESS TRANS FAT\")\n",
        "    if excess_sodium(calories_per_serving, sodium_mg) == True:\n",
        "        print(\"EXCESO SODIO / EXCESS SODIUM\")\n",
        "    if excess_calories(food_type, calories_per_serving, serving_size) == True:\n",
        "        print(\"EXCESO CALORÍAS / EXCESS CALORIES\")"
      ],
      "metadata": {
        "execution": {
          "iopub.status.busy": "2025-02-18T23:42:04.286044Z",
          "iopub.execute_input": "2025-02-18T23:42:04.286461Z",
          "iopub.status.idle": "2025-02-18T23:42:04.292563Z",
          "shell.execute_reply.started": "2025-02-18T23:42:04.286431Z",
          "shell.execute_reply": "2025-02-18T23:42:04.291455Z"
        },
        "trusted": true,
        "id": "uhv9zg85c3A7"
      },
      "outputs": [],
      "execution_count": null
    },
    {
      "cell_type": "markdown",
      "source": [
        "The next code cell demonstrates how to use `get_labels()` to get the warning labels that the food item should contain.  We begin with [bologna](https://world.openfoodfacts.org/product/4099100179378/bologna).  Here is [an image](https://storage.googleapis.com/kaggle-media/learn/images/Cfcx72e.png) with all of the nutritional information.  Note that for this food,\n",
        "- `food_type = \"solid\"` (because bologna is a solid and not a liquid)\n",
        "- `serving_size = 32` (the serving size is 32 grams)\n",
        "- `calories_per_serving = 110` (there are 110 calories per serving)\n",
        "- `saturated_fat_g = 2.5` (there are 2.5 grams of saturated fat per serving)\n",
        "- `trans_fat_g = 0` (there are 0 grams of trans fat per serving)\n",
        "- `sodium_mg = 400` (there are 400 mg of sodium per serving)\n",
        "- `sugars_g = 1` (the nutrition facts say <1g, but we will round it up to 1 gram per serving to be safe)\n",
        "\n",
        "By supplying all of these values to the function, we can print the warning labels."
      ],
      "metadata": {
        "id": "aMgqfo25c3A8"
      }
    },
    {
      "cell_type": "code",
      "source": [
        "# bologna https://world.openfoodfacts.org/product/4099100179378/bologna\n",
        "get_labels(\"solid\", 32, 110, 2.5, 0, 400, 1)"
      ],
      "metadata": {
        "execution": {
          "iopub.status.busy": "2025-02-18T23:42:52.613294Z",
          "iopub.execute_input": "2025-02-18T23:42:52.613739Z",
          "iopub.status.idle": "2025-02-18T23:42:52.620313Z",
          "shell.execute_reply.started": "2025-02-18T23:42:52.613708Z",
          "shell.execute_reply": "2025-02-18T23:42:52.618532Z"
        },
        "trusted": true,
        "id": "ZvzOTqFEc3A8",
        "outputId": "e3c5da77-ea14-4dd7-9cb4-61775fe3b06c"
      },
      "outputs": [
        {
          "name": "stdout",
          "text": "EXCESO GRASAS SATURADAS / EXCESS SATURATED FAT\nEXCESO SODIO / EXCESS SODIUM\nEXCESO CALORÍAS / EXCESS CALORIES\n",
          "output_type": "stream"
        }
      ],
      "execution_count": null
    },
    {
      "cell_type": "markdown",
      "source": [
        "This bologna has three labels, printed in the output above.\n",
        "\n",
        "For the rest of this question, you will use the same `get_labels()` function to determine the labels for more foods.  This question is designed to help you get practice with feeling comfortable with code that other people have written, and where you don't have time to review every single line of code before interacting with it.  For instance, when you take the [Intro to Machine Learning course](http://www.kaggle.com/learn/intro-to-machine-learning), you'll work with a Python package called \"scikit-learn\", which is a large collection of code that you'll learn how to run without reviewing all of the code in detail (as it would take too long, and you can trust that it was implemented correctly).\n",
        "\n",
        "In general, as you continue coding in Python, you will often be running code that other people have written.  This is common practice for advanced programmers.\n",
        "\n",
        "In the next code cell, fill in the values for [this cereal](https://world.openfoodfacts.org/product/7501008023624/zucaritas-kellogg-s).  Here is [an image](https://storage.googleapis.com/kaggle-media/learn/images/MUxzHVU.png) with all of the nutritional information.\n",
        "\n",
        "**Note**: running the line of code below as-is will return an error.  You have to fill in the nutritional values first."
      ],
      "metadata": {
        "id": "wgkY6BxFc3A8"
      }
    },
    {
      "cell_type": "code",
      "source": [
        "# zucaritas cereal https://world.openfoodfacts.org/product/7501008023624/zucaritas-kellogg-s\n",
        "# TODO: Uncomment the line below, fill in the values, and run the function\n",
        "get_labels(\"solid\", 32, 110, 2.5, 0, 400, 1)"
      ],
      "metadata": {
        "execution": {
          "iopub.status.busy": "2025-02-18T23:43:47.910669Z",
          "iopub.execute_input": "2025-02-18T23:43:47.911037Z",
          "iopub.status.idle": "2025-02-18T23:43:47.917102Z",
          "shell.execute_reply.started": "2025-02-18T23:43:47.911012Z",
          "shell.execute_reply": "2025-02-18T23:43:47.91552Z"
        },
        "trusted": true,
        "id": "6gygU5jmc3A8",
        "outputId": "fd9de80e-1969-42d0-c454-de92d32ce56d"
      },
      "outputs": [
        {
          "name": "stdout",
          "text": "EXCESO GRASAS SATURADAS / EXCESS SATURATED FAT\nEXCESO SODIO / EXCESS SODIUM\nEXCESO CALORÍAS / EXCESS CALORIES\n",
          "output_type": "stream"
        }
      ],
      "execution_count": null
    },
    {
      "cell_type": "markdown",
      "source": [
        "Next, try [these mozzarella sticks](https://world-es.openfoodfacts.org/producto/0062325540104/mozzarella-cheese-sticks).  Here is [an image](https://storage.googleapis.com/kaggle-media/learn/images/rcdB7VH.png) with all of the nutritional information."
      ],
      "metadata": {
        "id": "4HBzvcYQc3A8"
      }
    },
    {
      "cell_type": "code",
      "source": [
        "# mozzarella sticks https://world-es.openfoodfacts.org/producto/0062325540104/mozzarella-cheese-sticks\n",
        "# TODO: Uncomment the line below, fill in the values, and run the function\n",
        "get_labels(\"solid\", 32, 110, 2.5, 0, 400, 1)"
      ],
      "metadata": {
        "execution": {
          "iopub.status.busy": "2025-02-18T23:44:00.407704Z",
          "iopub.execute_input": "2025-02-18T23:44:00.408123Z",
          "iopub.status.idle": "2025-02-18T23:44:00.413933Z",
          "shell.execute_reply.started": "2025-02-18T23:44:00.408088Z",
          "shell.execute_reply": "2025-02-18T23:44:00.412903Z"
        },
        "trusted": true,
        "id": "c8krEZyIc3A9",
        "outputId": "35a40b2d-123f-4fdc-a1fe-4ea87f7ae0bf"
      },
      "outputs": [
        {
          "name": "stdout",
          "text": "EXCESO GRASAS SATURADAS / EXCESS SATURATED FAT\nEXCESO SODIO / EXCESS SODIUM\nEXCESO CALORÍAS / EXCESS CALORIES\n",
          "output_type": "stream"
        }
      ],
      "execution_count": null
    },
    {
      "cell_type": "markdown",
      "source": [
        "Feel free to skip to the end of the notebook now and run `q5.check()` to complete the exercise.  If you want to try more foods,\n",
        "- try [these cookies](https://world.openfoodfacts.org/product/0069700118545/biscuits-au-sucre-pretraches).  Here is [an image](https://storage.googleapis.com/kaggle-media/learn/images/2Bc271o.png) with all of the nutritional information.\n",
        "- try [this soda](https://world-es.openfoodfacts.org/producto/0078000113464/orange-soda-sunkist).  Here is [an image](https://storage.googleapis.com/kaggle-media/learn/images/RsBYa8E.png) with all of the nutritional information.\n",
        "\n",
        "Use the two code cells below for this."
      ],
      "metadata": {
        "id": "MKKVf0MKc3A9"
      }
    },
    {
      "cell_type": "code",
      "source": [
        "# pillsbury cookies https://world.openfoodfacts.org/product/0069700118545/biscuits-au-sucre-pretraches\n",
        "# TODO: Uncomment the line below, fill in the values, and run the function\n",
        "get_labels(\"solid\", 32, 110, 2.5, 0, 400, 1)"
      ],
      "metadata": {
        "execution": {
          "iopub.status.busy": "2025-02-18T23:44:30.598079Z",
          "iopub.execute_input": "2025-02-18T23:44:30.598557Z",
          "iopub.status.idle": "2025-02-18T23:44:30.6043Z",
          "shell.execute_reply.started": "2025-02-18T23:44:30.59852Z",
          "shell.execute_reply": "2025-02-18T23:44:30.603082Z"
        },
        "trusted": true,
        "id": "cCBYo4juc3A9",
        "outputId": "eda54eec-d0e1-49f5-c15a-9bfb556149df"
      },
      "outputs": [
        {
          "name": "stdout",
          "text": "EXCESO GRASAS SATURADAS / EXCESS SATURATED FAT\nEXCESO SODIO / EXCESS SODIUM\nEXCESO CALORÍAS / EXCESS CALORIES\n",
          "output_type": "stream"
        }
      ],
      "execution_count": null
    },
    {
      "cell_type": "code",
      "source": [
        "# sunkist orange soda https://world-es.openfoodfacts.org/producto/0078000113464/orange-soda-sunkist\n",
        "# TODO: Uncomment the line below, fill in the values, and run the function\n",
        "get_labels(\"solid\", 32, 110, 2.5, 0, 400, 1)"
      ],
      "metadata": {
        "execution": {
          "iopub.execute_input": "2022-03-04T20:34:33.216655Z",
          "iopub.status.busy": "2022-03-04T20:34:33.21632Z",
          "iopub.status.idle": "2022-03-04T20:34:33.223222Z",
          "shell.execute_reply": "2022-03-04T20:34:33.222331Z",
          "shell.execute_reply.started": "2022-03-04T20:34:33.216625Z"
        },
        "id": "gZx9h8UWc3A9"
      },
      "outputs": [],
      "execution_count": null
    },
    {
      "cell_type": "markdown",
      "source": [
        "Once you have finished investigating the food items in this question, run the final code cell to get credit for completing this problem."
      ],
      "metadata": {
        "id": "1IMTEFMRc3A9"
      }
    },
    {
      "cell_type": "code",
      "source": [
        "# Get credit for completing the problem\n",
        "q5.check()"
      ],
      "metadata": {
        "trusted": true,
        "execution": {
          "iopub.status.busy": "2025-02-18T23:44:52.199297Z",
          "iopub.execute_input": "2025-02-18T23:44:52.199745Z",
          "iopub.status.idle": "2025-02-18T23:44:52.207634Z",
          "shell.execute_reply.started": "2025-02-18T23:44:52.199711Z",
          "shell.execute_reply": "2025-02-18T23:44:52.206346Z"
        },
        "id": "Lp9h8_IGc3A9",
        "outputId": "584c54a6-b8b1-4bf5-d8ef-0f1f2593f44d"
      },
      "outputs": [
        {
          "output_type": "display_data",
          "data": {
            "text/plain": "<IPython.core.display.Javascript object>",
            "application/javascript": "parent.postMessage({\"jupyterEvent\": \"custom.exercise_interaction\", \"data\": {\"outcomeType\": 1, \"valueTowardsCompletion\": 0.2, \"interactionType\": 1, \"questionType\": 2, \"questionId\": \"5_GetLabels\", \"learnToolsVersion\": \"0.3.4\", \"failureMessage\": \"\", \"exceptionClass\": \"\", \"trace\": \"\"}}, \"*\")"
          },
          "metadata": {}
        },
        {
          "output_type": "display_data",
          "data": {
            "text/plain": "Once you have determined the labels for all of the food items, you're ready to move on to the next lesson!",
            "text/markdown": "<span style=\"color:#33cc33\">Once you have determined the labels for all of the food items, you're ready to move on to the next lesson!</span>"
          },
          "metadata": {}
        }
      ],
      "execution_count": null
    },
    {
      "cell_type": "markdown",
      "source": [
        "# Keep going\n",
        "\n",
        "Continue to the next lesson to **[learn about Python lists](https://www.kaggle.com/alexisbcook/intro-to-lists)**."
      ],
      "metadata": {
        "id": "3_l2ExOIc3A-"
      }
    },
    {
      "cell_type": "markdown",
      "source": [
        "---\n",
        "\n",
        "\n",
        "\n",
        "\n",
        "*Have questions or comments? Visit the [course discussion forum](https://www.kaggle.com/learn/intro-to-programming/discussion) to chat with other learners.*"
      ],
      "metadata": {
        "id": "qyLQAfRXc3A-"
      }
    }
  ]
}